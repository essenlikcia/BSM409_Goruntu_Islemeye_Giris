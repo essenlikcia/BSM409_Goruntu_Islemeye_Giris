{
 "cells": [
  {
   "cell_type": "code",
   "execution_count": 1,
   "id": "005af65e-f722-4a53-b705-cacf65e968c4",
   "metadata": {},
   "outputs": [
    {
     "name": "stdout",
     "output_type": "stream",
     "text": [
      "1838403\n",
      "uint8\n",
      "(639, 959, 3)\n"
     ]
    }
   ],
   "source": [
    "import cv2\n",
    "import numpy as np\n",
    "\n",
    "ai_image = cv2.imread(\"ai.jpg\");\n",
    "\n",
    "cv2.imshow(\"Ai\", ai_image)\n",
    "\n",
    "# to learn image size\n",
    "print(ai_image.size)\n",
    "\n",
    "# to learn image data type\n",
    "print(ai_image.dtype)\n",
    "\n",
    "# to learn image shape\n",
    "print(ai_image.shape)\n",
    "\n",
    "cv2.waitKey(0)\n",
    "cv2.destroyAllWindows()"
   ]
  },
  {
   "cell_type": "code",
   "execution_count": 39,
   "id": "b894e535-aca2-4aa3-8ff0-79d25b55ae33",
   "metadata": {},
   "outputs": [
    {
     "data": {
      "image/png": "[encoded data removed]",
      "text/plain": [
       "<Figure size 1000x400 with 1 Axes>"
      ]
     },
     "metadata": {},
     "output_type": "display_data"
    },
    {
     "data": {
      "text/plain": [
       "<matplotlib.image.AxesImage at 0x18d42607a90>"
      ]
     },
     "execution_count": 39,
     "metadata": {},
     "output_type": "execute_result"
    },
    {
     "data": {
      "image/png": "[encoded data removed]",
      "text/plain": [
       "<Figure size 640x480 with 1 Axes>"
      ]
     },
     "metadata": {},
     "output_type": "display_data"
    }
   ],
   "source": [
    "import matplotlib.pyplot as plt\n",
    "\n",
    "row = 256\n",
    "col = 256\n",
    "img = np.zeros((row, col))\n",
    "img[128:130, :] = 0.5\n",
    "img[:, 128:130] = 1\n",
    "plt.figure(figsize=(10, 4))\n",
    "plt.imshow(img)\n",
    "plt.show()\n",
    "plt.imshow(img, cmap=\"gray\")"
   ]
  },
  {
   "cell_type": "code",
   "execution_count": 2,
   "id": "089e2b1a-a82b-41a0-92c7-d3a5e9ac3a6a",
   "metadata": {},
   "outputs": [],
   "source": [
    "import cv2\n",
    "import numpy as np\n",
    "\n",
    "height = 1024\n",
    "width = 1024\n",
    "img = np.random.randint(255,size=(height,width, 1), dtype=np.uint8)\n",
    "\n",
    "cv2.imshow('Binary', img)\n",
    "cv2.waitKey(0)\n",
    "cv2.destroyAllWindows()"
   ]
  },
  {
   "cell_type": "code",
   "execution_count": 10,
   "id": "d094661e-e0a7-4e5d-a71f-1eb3ba541ecc",
   "metadata": {},
   "outputs": [
    {
     "name": "stdout",
     "output_type": "stream",
     "text": [
      "[1 2 3 4 5] [1, 2, 3, 4, 5] [2, 3] [3, 4] [4, 5] [1, 2, 3, 4] [1, 4] [5, 4, 3, 2, 1]\n"
     ]
    }
   ],
   "source": [
    "v=[1,2,3,4,5]\n",
    "w = np.transpose(v)\n",
    "print(w,v, v[1:3], v[2:4], v[3:], v[:-1], v[0::3], v[::-1])"
   ]
  },
  {
   "cell_type": "code",
   "execution_count": 41,
   "id": "a353dd39-c168-4382-82d9-21d423c4d1a5",
   "metadata": {},
   "outputs": [
    {
     "name": "stdout",
     "output_type": "stream",
     "text": [
      "array a:\n",
      " [[1, 2, 3], [10, 9, 8], [-1, -2, -3], [-10, -9, -8]]\n",
      "\n",
      "a[1]= [10, 9, 8]\n",
      "\n",
      "a[1],[2]= 8\n",
      "\n",
      "a[0][-1]= 3\n",
      "********************************************************************************\n",
      "array b\n",
      " [[  1   2   3]\n",
      " [ 10   9   8]\n",
      " [ -1  -2  -3]\n",
      " [-10  -9  -8]]\n",
      "last col\n",
      " [ 3  8 -3 -8]\n",
      "\n",
      " [[  1   2   0]\n",
      " [ 10   9   0]\n",
      " [ -1  -2   0]\n",
      " [-10  -9   0]]\n"
     ]
    }
   ],
   "source": [
    "a=[[1,2,3],\n",
    "    [10,9,8],\n",
    "    [-1,-2,-3],\n",
    "    [-10,-9,-8],]\n",
    "print(\"array a:\\n\",a)\n",
    "print(\"\\na[1]=\",a[1]) # second row\n",
    "print(\"\\na[1],[2]=\",a[1][2]) # second row third number\n",
    "print(\"\\na[0][-1]=\",a[0][-1]) # first row last number\n",
    "print(80 * \"*\")\n",
    "b=np.array([[1,2,3],\n",
    "            [10,9,8],\n",
    "            [-1,-2,-3],\n",
    "            [-10,-9,-8],])\n",
    "print(\"array b\\n\", b)\n",
    "print(\"last col\\n\",b[:,-1])\n",
    "b[:,-1] = 0\n",
    "print(\"\\n\",b)"
   ]
  },
  {
   "cell_type": "code",
   "execution_count": null,
   "id": "1995242e-e0ee-46d0-b932-2e8e736dce89",
   "metadata": {},
   "outputs": [],
   "source": []
  }
 ],
 "metadata": {
  "kernelspec": {
   "display_name": "Python 3 (ipykernel)",
   "language": "python",
   "name": "python3"
  },
  "language_info": {
   "codemirror_mode": {
    "name": "ipython",
    "version": 3
   },
   "file_extension": ".py",
   "mimetype": "text/x-python",
   "name": "python",
   "nbconvert_exporter": "python",
   "pygments_lexer": "ipython3",
   "version": "3.10.7"
  }
 },
 "nbformat": 4,
 "nbformat_minor": 5
}
